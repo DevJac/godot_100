{
 "cells": [
  {
   "cell_type": "code",
   "execution_count": 1,
   "id": "4cdc8330-ce18-41da-b3c3-0ba0eb94388c",
   "metadata": {},
   "outputs": [],
   "source": [
    "import numpy as np\n",
    "import sympy as sym"
   ]
  },
  {
   "cell_type": "markdown",
   "id": "a2831647-b897-4fb0-b392-0bbbc38c351a",
   "metadata": {},
   "source": [
    "# Rotation"
   ]
  },
  {
   "cell_type": "code",
   "execution_count": 2,
   "id": "80a9a3c8-f078-4d1c-99c1-08ee83ae69f0",
   "metadata": {},
   "outputs": [
    {
     "name": "stdout",
     "output_type": "stream",
     "text": [
      "Rotation x-axis:\n"
     ]
    },
    {
     "data": {
      "text/latex": [
       "$\\displaystyle \\left[\\begin{matrix}1 & 0 & 0\\\\0 & \\cos{\\left(\\theta_{x} \\right)} & - \\sin{\\left(\\theta_{x} \\right)}\\\\0 & \\sin{\\left(\\theta_{x} \\right)} & \\cos{\\left(\\theta_{x} \\right)}\\end{matrix}\\right]$"
      ],
      "text/plain": [
       "Matrix([\n",
       "[1,            0,             0],\n",
       "[0, cos(theta_x), -sin(theta_x)],\n",
       "[0, sin(theta_x),  cos(theta_x)]])"
      ]
     },
     "metadata": {},
     "output_type": "display_data"
    },
    {
     "name": "stdout",
     "output_type": "stream",
     "text": [
      "Rotation y-axis:\n"
     ]
    },
    {
     "data": {
      "text/latex": [
       "$\\displaystyle \\left[\\begin{matrix}\\cos{\\left(\\theta_{y} \\right)} & 0 & \\sin{\\left(\\theta_{y} \\right)}\\\\0 & 1 & 0\\\\- \\sin{\\left(\\theta_{y} \\right)} & 0 & \\cos{\\left(\\theta_{y} \\right)}\\end{matrix}\\right]$"
      ],
      "text/plain": [
       "Matrix([\n",
       "[ cos(theta_y), 0, sin(theta_y)],\n",
       "[            0, 1,            0],\n",
       "[-sin(theta_y), 0, cos(theta_y)]])"
      ]
     },
     "metadata": {},
     "output_type": "display_data"
    }
   ],
   "source": [
    "theta_x, theta_y = sym.symbols('theta_x, theta_y')\n",
    "\n",
    "R_x = sym.Matrix([[1, 0, 0], [0, sym.cos(theta_x), -sym.sin(theta_x)], [0, sym.sin(theta_x), sym.cos(theta_x)]])\n",
    "R_y = sym.Matrix([[sym.cos(theta_y), 0, sym.sin(theta_y)], [0, 1, 0], [-sym.sin(theta_y), 0, sym.cos(theta_y)]])\n",
    "\n",
    "print('Rotation x-axis:')\n",
    "display(R_x)\n",
    "print('Rotation y-axis:')\n",
    "display(R_y)"
   ]
  },
  {
   "cell_type": "code",
   "execution_count": 3,
   "id": "18e0dd08-793f-43df-b899-daba97b35690",
   "metadata": {},
   "outputs": [
    {
     "name": "stdout",
     "output_type": "stream",
     "text": [
      "Rotate x after y:\n"
     ]
    },
    {
     "data": {
      "text/latex": [
       "$\\displaystyle \\left[\\begin{matrix}\\cos{\\left(\\theta_{y} \\right)} & 0 & \\sin{\\left(\\theta_{y} \\right)}\\\\\\sin{\\left(\\theta_{x} \\right)} \\sin{\\left(\\theta_{y} \\right)} & \\cos{\\left(\\theta_{x} \\right)} & - \\sin{\\left(\\theta_{x} \\right)} \\cos{\\left(\\theta_{y} \\right)}\\\\- \\sin{\\left(\\theta_{y} \\right)} \\cos{\\left(\\theta_{x} \\right)} & \\sin{\\left(\\theta_{x} \\right)} & \\cos{\\left(\\theta_{x} \\right)} \\cos{\\left(\\theta_{y} \\right)}\\end{matrix}\\right]$"
      ],
      "text/plain": [
       "Matrix([\n",
       "[              cos(theta_y),            0,               sin(theta_y)],\n",
       "[ sin(theta_x)*sin(theta_y), cos(theta_x), -sin(theta_x)*cos(theta_y)],\n",
       "[-sin(theta_y)*cos(theta_x), sin(theta_x),  cos(theta_x)*cos(theta_y)]])"
      ]
     },
     "metadata": {},
     "output_type": "display_data"
    }
   ],
   "source": [
    "print('Rotate x after y:')\n",
    "display(R_x * R_y)"
   ]
  },
  {
   "cell_type": "markdown",
   "id": "eb4430d6-402c-4211-9609-0371d2ed412d",
   "metadata": {},
   "source": [
    "# FOV"
   ]
  },
  {
   "cell_type": "code",
   "execution_count": 43,
   "id": "9fa1c804-cfec-4a55-88b7-bcd53367eff1",
   "metadata": {},
   "outputs": [
    {
     "name": "stdout",
     "output_type": "stream",
     "text": [
      "t:\n"
     ]
    },
    {
     "data": {
      "text/plain": [
       "0.9999999999999999"
      ]
     },
     "metadata": {},
     "output_type": "display_data"
    },
    {
     "name": "stdout",
     "output_type": "stream",
     "text": [
      "v:\n"
     ]
    },
    {
     "data": {
      "text/plain": [
       "1.0"
      ]
     },
     "metadata": {},
     "output_type": "display_data"
    }
   ],
   "source": [
    "fov = 90\n",
    "t = np.tan(fov / 360 * np.pi)\n",
    "print('t:')\n",
    "display(t)\n",
    "v = (0.5 / t) + 0.5\n",
    "print('v:')\n",
    "display(v)"
   ]
  },
  {
   "cell_type": "code",
   "execution_count": 29,
   "id": "2c283a79-3134-4607-babc-ba3ff9da6ed2",
   "metadata": {},
   "outputs": [
    {
     "data": {
      "text/plain": [
       "array([[0, 0],\n",
       "       [1, 0],\n",
       "       [1, 1],\n",
       "       [0, 1]])"
      ]
     },
     "execution_count": 29,
     "metadata": {},
     "output_type": "execute_result"
    }
   ],
   "source": [
    "sprite_vertices = np.array([\n",
    "    [0, 0],\n",
    "    [1, 0],\n",
    "    [1, 1],\n",
    "    [0, 1],\n",
    "])\n",
    "sprite_vertices"
   ]
  },
  {
   "cell_type": "code",
   "execution_count": 30,
   "id": "110df036-c46f-469a-b611-7375acdc3ec3",
   "metadata": {},
   "outputs": [
    {
     "data": {
      "text/plain": [
       "array([[-0.5, -0.5],\n",
       "       [ 0.5, -0.5],\n",
       "       [ 0.5,  0.5],\n",
       "       [-0.5,  0.5]])"
      ]
     },
     "execution_count": 30,
     "metadata": {},
     "output_type": "execute_result"
    }
   ],
   "source": [
    "sprite_vertices = sprite_vertices - 0.5\n",
    "sprite_vertices"
   ]
  },
  {
   "cell_type": "code",
   "execution_count": 31,
   "id": "c520de8d-dec1-4e7e-8c87-36b5a589cb4c",
   "metadata": {},
   "outputs": [
    {
     "data": {
      "text/plain": [
       "array([[-0.5, -0.5,  0.5],\n",
       "       [ 0.5, -0.5,  0.5],\n",
       "       [ 0.5,  0.5,  0.5],\n",
       "       [-0.5,  0.5,  0.5]])"
      ]
     },
     "execution_count": 31,
     "metadata": {},
     "output_type": "execute_result"
    }
   ],
   "source": [
    "sprite_vertices = np.hstack((sprite_vertices, np.array([[0.5 / t]]*4)))\n",
    "sprite_vertices"
   ]
  },
  {
   "cell_type": "code",
   "execution_count": 33,
   "id": "d833079d-9b09-42e0-ad8a-71f6db6ebd84",
   "metadata": {},
   "outputs": [
    {
     "data": {
      "text/plain": [
       "1.0"
      ]
     },
     "execution_count": 33,
     "metadata": {},
     "output_type": "execute_result"
    }
   ],
   "source": [
    "v = (0.5 / t) + 0.5\n",
    "v"
   ]
  },
  {
   "cell_type": "code",
   "execution_count": null,
   "id": "03c177e4-0ca4-48ca-806b-3486f76cacf6",
   "metadata": {},
   "outputs": [],
   "source": []
  },
  {
   "cell_type": "code",
   "execution_count": null,
   "id": "9e758276-506a-4e50-b7b5-e9401cd15613",
   "metadata": {},
   "outputs": [],
   "source": []
  },
  {
   "cell_type": "code",
   "execution_count": null,
   "id": "ee77ec30-d081-4932-be20-ddc2665c806b",
   "metadata": {},
   "outputs": [],
   "source": []
  },
  {
   "cell_type": "code",
   "execution_count": null,
   "id": "14172994-2535-4ce7-9448-fac1d0df09bb",
   "metadata": {},
   "outputs": [],
   "source": []
  },
  {
   "cell_type": "code",
   "execution_count": null,
   "id": "f7c45098-3c7f-480d-8ecd-6b59f425deaf",
   "metadata": {},
   "outputs": [],
   "source": []
  },
  {
   "cell_type": "code",
   "execution_count": null,
   "id": "02ac37ce-2b87-42a2-92ef-e2772a95aca8",
   "metadata": {},
   "outputs": [],
   "source": []
  },
  {
   "cell_type": "code",
   "execution_count": null,
   "id": "fd62fe6c-9845-4f7a-a392-d187c5c4f771",
   "metadata": {},
   "outputs": [],
   "source": []
  },
  {
   "cell_type": "code",
   "execution_count": null,
   "id": "9744b191-7660-4d6d-b78e-b443795dd1ac",
   "metadata": {},
   "outputs": [],
   "source": []
  },
  {
   "cell_type": "code",
   "execution_count": null,
   "id": "06336e28-1c1a-4307-913d-32c1de23826d",
   "metadata": {},
   "outputs": [],
   "source": []
  },
  {
   "cell_type": "code",
   "execution_count": null,
   "id": "8a4f20c6-5503-4207-aa68-d5d1e12ab402",
   "metadata": {},
   "outputs": [],
   "source": []
  },
  {
   "cell_type": "code",
   "execution_count": null,
   "id": "7ab61564-d7e4-4e11-b5fd-c6e4b2324493",
   "metadata": {},
   "outputs": [],
   "source": []
  }
 ],
 "metadata": {
  "kernelspec": {
   "display_name": "Python 3 (ipykernel)",
   "language": "python",
   "name": "python3"
  },
  "language_info": {
   "codemirror_mode": {
    "name": "ipython",
    "version": 3
   },
   "file_extension": ".py",
   "mimetype": "text/x-python",
   "name": "python",
   "nbconvert_exporter": "python",
   "pygments_lexer": "ipython3",
   "version": "3.12.2"
  }
 },
 "nbformat": 4,
 "nbformat_minor": 5
}
